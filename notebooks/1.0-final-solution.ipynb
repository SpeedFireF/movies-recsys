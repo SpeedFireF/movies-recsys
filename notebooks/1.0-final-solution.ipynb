{
 "nbformat": 4,
 "nbformat_minor": 0,
 "metadata": {
  "colab": {
   "private_outputs": true,
   "provenance": []
  },
  "kernelspec": {
   "name": "python3",
   "display_name": "Python 3"
  },
  "language_info": {
   "name": "python"
  },
  "accelerator": "GPU"
 },
 "cells": [
  {
   "cell_type": "code",
   "source": [
    "import numpy as np\n",
    "import random\n",
    "import torch\n",
    "\n",
    "# Set seed for NumPy random number generator to ensure reproducibility\n",
    "np.random.seed(42)\n",
    "\n",
    "# Set seed for Python built-in random module to ensure reproducibility\n",
    "random.seed(42)\n",
    "\n",
    "# Set seed for PyTorch random number generator to ensure reproducibility\n",
    "torch.manual_seed(42)\n",
    "\n",
    "# Check if a CUDA-enabled GPU is available, otherwise use CPU\n",
    "device = torch.device(\"cuda:0\" if torch.cuda.is_available() else \"cpu\")\n",
    "device"
   ],
   "metadata": {
    "id": "b4pKT5jUt3pz"
   },
   "execution_count": 94,
   "outputs": [
    {
     "data": {
      "text/plain": "device(type='cpu')"
     },
     "execution_count": 94,
     "metadata": {},
     "output_type": "execute_result"
    }
   ]
  },
  {
   "cell_type": "markdown",
   "metadata": {
    "id": "eYnQc9UH07Fg"
   },
   "source": [
    "## Read dataset + preprocess\n",
    "I decide to take the whole dataset to increase the score of the lightGCN"
   ]
  },
  {
   "cell_type": "code",
   "source": [
    "import pandas as pd\n",
    "\n",
    "# Define column names for the DataFrame\n",
    "columns_name = ['user_id', 'item_id', 'rating', 'timestamp']\n",
    "\n",
    "# Read the data\n",
    "df = pd.read_csv(\"/Users/damirabdulaev/Downloads/ml-100k/u.data\", sep=\"\\t\", names=columns_name)"
   ],
   "metadata": {
    "id": "D13_omigmeOi"
   },
   "execution_count": 95,
   "outputs": []
  },
  {
   "cell_type": "code",
   "source": [
    "from sklearn.model_selection import train_test_split\n",
    "\n",
    "# Split the DataFrame 'df' into training and test sets\n",
    "train, test = train_test_split(df.values, test_size=0.2, random_state=16)\n",
    "\n",
    "# Create new DataFrames 'train_df' and 'test_df' from the split data with the same column names\n",
    "train_df = pd.DataFrame(train, columns=df.columns)\n",
    "test_df = pd.DataFrame(test, columns=df.columns)"
   ],
   "metadata": {
    "id": "SWwvL8JOmrT4"
   },
   "execution_count": 96,
   "outputs": []
  },
  {
   "cell_type": "markdown",
   "source": [
    "Because of the train/test split we should relabel all users in the dataframes"
   ],
   "metadata": {
    "id": "g0bHVYGjrTcL"
   }
  },
  {
   "cell_type": "code",
   "source": [
    "from sklearn import preprocessing as pp\n",
    "\n",
    "# Initialize LabelEncoders for 'user_id' and 'item_id'\n",
    "le_user = pp.LabelEncoder()\n",
    "le_item = pp.LabelEncoder()\n",
    "\n",
    "# Encode 'user_id' and 'item_id' in the training DataFrame and create new columns for the encoded values\n",
    "train_df['user_id_idx'] = le_user.fit_transform(train_df['user_id'].values)\n",
    "train_df['item_id_idx'] = le_item.fit_transform(train_df['item_id'].values)"
   ],
   "metadata": {
    "id": "QXi90opJmriQ"
   },
   "execution_count": 97,
   "outputs": []
  },
  {
   "cell_type": "code",
   "execution_count": 98,
   "outputs": [],
   "source": [
    "# Save the train_dataset for future use in testing\n",
    "train_df.to_csv('train_dataset.csv', index=False)"
   ],
   "metadata": {
    "collapsed": false
   }
  },
  {
   "cell_type": "code",
   "execution_count": 99,
   "outputs": [],
   "source": [
    "# Extract unique user and item IDs from the training set\n",
    "train_user_ids = train_df['user_id'].unique()\n",
    "train_item_ids = train_df['item_id'].unique()\n",
    "\n",
    "# Filter the test set to include only those rows with user and item IDs present in the training set\n",
    "test_df = test_df[\n",
    "    (test_df['user_id'].isin(train_user_ids)) & \\\n",
    "    (test_df['item_id'].isin(train_item_ids))\n",
    "    ]"
   ],
   "metadata": {
    "collapsed": false
   }
  },
  {
   "cell_type": "code",
   "source": [
    "# Encode 'user_id' and 'item_id' in the test DataFrame using the previously initialized LabelEncoders\n",
    "test_df['user_id_idx'] = le_user.transform(test_df['user_id'].values)\n",
    "test_df['item_id_idx'] = le_item.transform(test_df['item_id'].values)"
   ],
   "metadata": {
    "id": "9fKAfWyCm5eY"
   },
   "execution_count": 100,
   "outputs": []
  },
  {
   "cell_type": "code",
   "execution_count": 101,
   "outputs": [],
   "source": [
    "# Save the test_dataset for future use in testing\n",
    "test_df.to_csv('test_dataset.csv', index=False)"
   ],
   "metadata": {
    "collapsed": false
   }
  },
  {
   "cell_type": "markdown",
   "source": [
    "### Minibatch Sampling\n",
    "\n",
    "Explain the scheme of minibatch positive and negative sample in some amount of prose.\n",
    "\n",
    "We need to add `n_usr` to the sampled positive and negative items, since each node must have a unique id when using PyG."
   ],
   "metadata": {
    "id": "XNoblY5kxlv_"
   }
  },
  {
   "cell_type": "code",
   "source": [
    "import random\n",
    "import pandas as pd\n",
    "import torch\n",
    "\n",
    "def data_loader(data, batch_size, n_usr, n_itm):\n",
    "    \"\"\"\n",
    "    Generate a batch of training data for a recommendation system.\n",
    "\n",
    "    Args:\n",
    "    - data (pd.DataFrame): DataFrame containing user-item interaction data.\n",
    "    - batch_size (int): Number of samples in each batch.\n",
    "    - n_usr (int): Number of unique user indices.\n",
    "    - n_itm (int): Number of unique item indices.\n",
    "\n",
    "    Returns:\n",
    "    - Tuple of torch.LongTensor: Tuple containing user, positive item, and negative item indices.\n",
    "    \"\"\"\n",
    "\n",
    "    def sample_neg(x):\n",
    "        \"\"\"\n",
    "        Helper function to sample a negative item index not present in the given list.\n",
    "\n",
    "        Args:\n",
    "        - x (list): List of positive item indices for a user.\n",
    "\n",
    "        Returns:\n",
    "        - int: Negative item index.\n",
    "        \"\"\"\n",
    "        while True:\n",
    "            neg_id = random.randint(0, n_itm - 1)\n",
    "            if neg_id not in x:\n",
    "                return neg_id\n",
    "\n",
    "    # Group the data by user indices and create a list of interacted items for each user\n",
    "    interected_items_df = data.groupby('user_id_idx')['item_id_idx'].apply(list).reset_index()\n",
    "    indices = [x for x in range(n_usr)]\n",
    "\n",
    "    # Randomly select users for the batch\n",
    "    if n_usr < batch_size:\n",
    "        users = [random.choice(indices) for _ in range(batch_size)]\n",
    "    else:\n",
    "        users = random.sample(indices, batch_size)\n",
    "    users.sort()\n",
    "    users_df = pd.DataFrame(users, columns=['users'])\n",
    "\n",
    "    # Merge the selected users with the interacted_items_df to get positive items\n",
    "    interected_items_df = pd.merge(interected_items_df, users_df, how='right', left_on='user_id_idx', right_on='users')\n",
    "    pos_items = interected_items_df['item_id_idx'].apply(lambda x: random.choice(x)).values\n",
    "\n",
    "    # Generate negative items for the selected users\n",
    "    neg_items = interected_items_df['item_id_idx'].apply(lambda x: sample_neg(x)).values\n",
    "\n",
    "    # Return the generated data as torch.LongTensor\n",
    "    return (\n",
    "        torch.LongTensor(list(users)).to(device),\n",
    "        torch.LongTensor(list(pos_items)).to(device) + n_usr,\n",
    "        torch.LongTensor(list(neg_items)).to(device) + n_usr\n",
    "    )\n",
    "\n",
    "# Obtain the number of unique users and items from the training data\n",
    "n_users = train_df['user_id_idx'].nunique()\n",
    "n_items = train_df['item_id_idx'].nunique()\n",
    "\n",
    "# Generate a batch of training data using the data_loader function\n",
    "data_loader(train_df, 16, n_users, n_items)"
   ],
   "metadata": {
    "id": "NQRGy-CJnOkg"
   },
   "execution_count": 102,
   "outputs": [
    {
     "data": {
      "text/plain": "(tensor([ 25,  89, 104, 114, 142, 228, 250, 281, 558, 604, 654, 692, 754, 758,\n         759, 913]),\n tensor([1257, 1469, 1200,  998, 1267, 1254, 1086, 1244, 1122, 1194, 1198, 1510,\n         1282, 1164, 1679, 1393]),\n tensor([2497, 1269, 2372, 1808, 1639, 1512, 1261, 1383, 2506, 1632, 1141, 1678,\n         1647, 2179, 1484, 1031]))"
     },
     "execution_count": 102,
     "metadata": {},
     "output_type": "execute_result"
    }
   ]
  },
  {
   "cell_type": "markdown",
   "source": [
    "## Edge Index"
   ],
   "metadata": {
    "id": "vjHZg1Eu-MKs"
   }
  },
  {
   "cell_type": "code",
   "source": [
    "# Convert user and item indices to torch LongTensors\n",
    "u_t = torch.LongTensor(train_df.user_id_idx)\n",
    "i_t = torch.LongTensor(train_df.item_id_idx) + n_users\n",
    "\n",
    "# Create the edge index for the training data\n",
    "train_edge_index = torch.stack((\n",
    "    torch.cat([u_t, i_t]),\n",
    "    torch.cat([i_t, u_t])\n",
    ")).to(device)\n",
    "train_edge_index"
   ],
   "metadata": {
    "id": "O3BkGyV9pkce"
   },
   "execution_count": 103,
   "outputs": [
    {
     "data": {
      "text/plain": "tensor([[ 523,  428,  504,  ..., 1128, 1164, 1242],\n        [1356, 1034, 1114,  ...,  637,  837,   11]])"
     },
     "execution_count": 103,
     "metadata": {},
     "output_type": "execute_result"
    }
   ]
  },
  {
   "cell_type": "markdown",
   "source": [
    "## Model Architecture\n"
   ],
   "metadata": {
    "collapsed": false
   }
  },
  {
   "cell_type": "markdown",
   "source": [
    "### LightGCN Convolutional Layer"
   ],
   "metadata": {
    "id": "49WD8SryyUds"
   }
  },
  {
   "cell_type": "code",
   "metadata": {
    "id": "-aTMoHisNIh_"
   },
   "source": [
    "from torch_geometric.nn.conv import MessagePassing\n",
    "from torch_geometric.utils import degree\n",
    "import numpy as np\n",
    "\n",
    "class LightGCNConv(MessagePassing):\n",
    "    \"\"\"\n",
    "    Implementation of the LightGCN convolution layer.\n",
    "\n",
    "    Args:\n",
    "    - MessagePassing: Base class for implementing message passing layers in PyTorch Geometric.\n",
    "    \"\"\"\n",
    "\n",
    "    def __init__(self, **kwargs):\n",
    "        \"\"\"\n",
    "        Initializes the LightGCN convolution layer.\n",
    "\n",
    "        Args:\n",
    "        - **kwargs: Additional keyword arguments for the MessagePassing base class.\n",
    "        \"\"\"\n",
    "        super().__init__(aggr='add')\n",
    "\n",
    "    def forward(self, x, edge_index):\n",
    "        \"\"\"\n",
    "        Forward pass of the LightGCN convolution layer.\n",
    "\n",
    "        Args:\n",
    "        - x (torch.Tensor): Node features.\n",
    "        - edge_index (torch.LongTensor): Graph edge indices.\n",
    "\n",
    "        Returns:\n",
    "        - torch.Tensor: Output tensor after the forward pass.\n",
    "        \"\"\"\n",
    "        from_, to_ = edge_index\n",
    "\n",
    "        # Calculate degree and degree_inv_sqrt for normalization\n",
    "        deg = degree(to_, x.size(0), dtype=x.dtype)\n",
    "        deg_inv_sqrt = deg.pow(-0.5)\n",
    "        deg_inv_sqrt[deg_inv_sqrt == float('inf')] = 0\n",
    "        norm = deg_inv_sqrt[from_] * deg_inv_sqrt[to_]\n",
    "\n",
    "        # Perform the message passing step\n",
    "        return self.propagate(edge_index, x=x, norm=norm)\n",
    "\n",
    "    def message(self, x_j, norm):\n",
    "        \"\"\"\n",
    "        Message function for the LightGCN convolution layer.\n",
    "\n",
    "        Args:\n",
    "        - x_j (torch.Tensor): Input tensor for each neighboring node.\n",
    "        - norm (torch.Tensor): Normalization factor.\n",
    "\n",
    "        Returns:\n",
    "        - torch.Tensor: Output tensor after applying the message function.\n",
    "        \"\"\"\n",
    "        return norm.view(-1, 1) * x_j"
   ],
   "execution_count": 41,
   "outputs": []
  },
  {
   "cell_type": "markdown",
   "metadata": {
    "id": "I2tW9FJFqNjn"
   },
   "source": [
    "### Recommender System GNN"
   ]
  },
  {
   "cell_type": "code",
   "execution_count": 42,
   "outputs": [],
   "source": [
    "import torch.nn as nn\n",
    "import torch.nn.functional as F"
   ],
   "metadata": {
    "collapsed": false
   }
  },
  {
   "cell_type": "code",
   "metadata": {
    "id": "nT5LTkI8Ml1c"
   },
   "source": [
    "import torch.nn as nn\n",
    "\n",
    "class RecSysGNN(nn.Module):\n",
    "    \"\"\"\n",
    "    Implementation of a Graph Neural Network (GNN) for recommendation systems.\n",
    "\n",
    "    Args:\n",
    "    - latent_dim (int): Dimensionality of the latent embeddings.\n",
    "    - num_layers (int): Number of layers in the GNN.\n",
    "    - num_users (int): Number of unique user indices.\n",
    "    - num_items (int): Number of unique item indices.\n",
    "    \"\"\"\n",
    "\n",
    "    def __init__(\n",
    "            self,\n",
    "            latent_dim,\n",
    "            num_layers,\n",
    "            num_users,\n",
    "            num_items,\n",
    "    ):\n",
    "        \"\"\"\n",
    "        Initializes the RecSysGNN model.\n",
    "\n",
    "        Args:\n",
    "        - latent_dim (int): Dimensionality of the latent embeddings.\n",
    "        - num_layers (int): Number of layers in the GNN.\n",
    "        - num_users (int): Number of unique user indices.\n",
    "        - num_items (int): Number of unique item indices.\n",
    "        \"\"\"\n",
    "        super(RecSysGNN, self).__init__()\n",
    "\n",
    "        # Embedding layer for users and items\n",
    "        self.embedding = nn.Embedding(num_users + num_items, latent_dim)\n",
    "\n",
    "        # List of LightGCNConv layers for message passing\n",
    "        self.convs = nn.ModuleList(LightGCNConv() for _ in range(num_layers))\n",
    "\n",
    "        # Initialize parameters\n",
    "        self.init_parameters()\n",
    "\n",
    "    def init_parameters(self):\n",
    "        \"\"\"\n",
    "        Initializes the model parameters.\n",
    "        \"\"\"\n",
    "        nn.init.normal_(self.embedding.weight, std=0.1)\n",
    "\n",
    "    def forward(self, edge_index):\n",
    "        \"\"\"\n",
    "        Forward pass of the RecSysGNN model.\n",
    "\n",
    "        Args:\n",
    "        - edge_index (torch.LongTensor): Graph edge indices.\n",
    "\n",
    "        Returns:\n",
    "        - Tuple of torch.Tensor: Tuple containing initial embeddings and final embeddings.\n",
    "        \"\"\"\n",
    "        emb0 = self.embedding.weight\n",
    "        embs = [emb0]\n",
    "\n",
    "        emb = emb0\n",
    "        for conv in self.convs:\n",
    "            emb = conv(x=emb, edge_index=edge_index)\n",
    "            embs.append(emb)\n",
    "\n",
    "        out = torch.mean(torch.stack(embs, dim=0), dim=0)\n",
    "\n",
    "        return emb0, out\n",
    "\n",
    "    def encode_minibatch(self, users, pos_items, neg_items, edge_index):\n",
    "        \"\"\"\n",
    "        Encodes a minibatch of users, positive items, and negative items.\n",
    "\n",
    "        Args:\n",
    "        - users (torch.LongTensor): Indices of users in the minibatch.\n",
    "        - pos_items (torch.LongTensor): Indices of positive items in the minibatch.\n",
    "        - neg_items (torch.LongTensor): Indices of negative items in the minibatch.\n",
    "        - edge_index (torch.LongTensor): Graph edge indices.\n",
    "\n",
    "        Returns:\n",
    "        - Tuple of torch.Tensor: Tuple containing embeddings for users, positive items, negative items,\n",
    "          and initial embeddings for users, positive items, negative items.\n",
    "        \"\"\"\n",
    "        emb0, out = self(edge_index)\n",
    "        return (\n",
    "            out[users],\n",
    "            out[pos_items],\n",
    "            out[neg_items],\n",
    "            emb0[users],\n",
    "            emb0[pos_items],\n",
    "            emb0[neg_items]\n",
    "        )"
   ],
   "execution_count": 104,
   "outputs": []
  },
  {
   "cell_type": "markdown",
   "source": [
    "## Bayesian Personalized Ranking loss function + Presicion and Recall"
   ],
   "metadata": {
    "id": "dyqEQ6kfCY5V"
   }
  },
  {
   "cell_type": "code",
   "source": [
    "import torch.nn.functional as F\n",
    "\n",
    "def compute_bpr_loss(users, users_emb, pos_emb, neg_emb, user_emb0,  pos_emb0, neg_emb0):\n",
    "    \"\"\"\n",
    "    Compute Bayesian Personalized Ranking (BPR) loss.\n",
    "\n",
    "    Args:\n",
    "    - users (torch.LongTensor): Indices of users.\n",
    "    - users_emb (torch.Tensor): Embeddings for users.\n",
    "    - pos_emb (torch.Tensor): Embeddings for positive items.\n",
    "    - neg_emb (torch.Tensor): Embeddings for negative items.\n",
    "    - user_emb0 (torch.Tensor): Initial embeddings for users.\n",
    "    - pos_emb0 (torch.Tensor): Initial embeddings for positive items.\n",
    "    - neg_emb0 (torch.Tensor): Initial embeddings for negative items.\n",
    "\n",
    "    Returns:\n",
    "    - Tuple of torch.Tensor: Tuple containing BPR loss and regularization loss.\n",
    "    \"\"\"\n",
    "    # Regularization loss\n",
    "    reg_loss = (1 / 2) * (\n",
    "            user_emb0.norm().pow(2) +\n",
    "            pos_emb0.norm().pow(2) +\n",
    "            neg_emb0.norm().pow(2)\n",
    "    ) / float(len(users))\n",
    "\n",
    "    # BPR loss\n",
    "    pos_scores = torch.mul(users_emb, pos_emb).sum(dim=1)\n",
    "    neg_scores = torch.mul(users_emb, neg_emb).sum(dim=1)\n",
    "    bpr_loss = torch.mean(F.softplus(neg_scores - pos_scores))\n",
    "\n",
    "    return bpr_loss, reg_loss"
   ],
   "metadata": {
    "id": "bwrPmvXPow5q"
   },
   "execution_count": 105,
   "outputs": []
  },
  {
   "cell_type": "code",
   "source": [
    "def get_metrics(user_Embed_wts, item_Embed_wts, n_users, n_items, train_data, test_data, K):\n",
    "    \"\"\"\n",
    "    Calculate recall and precision metrics for a recommendation model.\n",
    "\n",
    "    Args:\n",
    "    - user_Embed_wts (torch.Tensor): User embeddings.\n",
    "    - item_Embed_wts (torch.Tensor): Item embeddings.\n",
    "    - n_users (int): Number of unique users.\n",
    "    - n_items (int): Number of unique items.\n",
    "    - train_data (pd.DataFrame): DataFrame containing training data.\n",
    "    - test_data (pd.DataFrame): DataFrame containing test data.\n",
    "    - K (int): Top-K recommendations to consider.\n",
    "\n",
    "    Returns:\n",
    "    - Tuple of floats: Mean recall and mean precision.\n",
    "    \"\"\"\n",
    "    # Compute relevance scores\n",
    "    relevance_score = torch.matmul(user_Embed_wts, torch.transpose(item_Embed_wts, 0, 1))\n",
    "\n",
    "    # Create a sparse tensor representing user-item interactions in the training data\n",
    "    i = torch.stack((\n",
    "        torch.LongTensor(train_data['user_id_idx'].values),\n",
    "        torch.LongTensor(train_data['item_id_idx'].values)\n",
    "    ))\n",
    "    v = torch.ones((len(train_data)), dtype=torch.float64)\n",
    "    interactions_t = torch.sparse.FloatTensor(i, v, (n_users, n_items)).to_dense().to(device)\n",
    "\n",
    "    # Exclude already interacted items from relevance scores\n",
    "    relevance_score = torch.mul(relevance_score, (1 - interactions_t))\n",
    "\n",
    "    # Get top-K relevant item indices\n",
    "    topk_relevance_indices = torch.topk(relevance_score, K).indices\n",
    "\n",
    "    # Create a DataFrame with user indices and top-K relevant item indices\n",
    "    topk_relevance_indices_df = pd.DataFrame(topk_relevance_indices.cpu().numpy(),\n",
    "                                             columns=['top_indx_' + str(x + 1) for x in range(K)])\n",
    "    topk_relevance_indices_df['user_ID'] = topk_relevance_indices_df.index\n",
    "    topk_relevance_indices_df['top_rlvnt_itm'] = topk_relevance_indices_df[\n",
    "        ['top_indx_' + str(x + 1) for x in range(K)]].values.tolist()\n",
    "    topk_relevance_indices_df = topk_relevance_indices_df[['user_ID', 'top_rlvnt_itm']]\n",
    "\n",
    "    # Merge test data with top-K relevant item indices\n",
    "    test_interacted_items = test_data.groupby('user_id_idx')['item_id_idx'].apply(list).reset_index()\n",
    "    metrics_df = pd.merge(test_interacted_items, topk_relevance_indices_df, how='left',\n",
    "                          left_on='user_id_idx', right_on=['user_ID'])\n",
    "    metrics_df['intrsctn_itm'] = [list(set(a).intersection(b)) for a, b in\n",
    "                                  zip(metrics_df.item_id_idx, metrics_df.top_rlvnt_itm)]\n",
    "\n",
    "    # Calculate recall and precision\n",
    "    metrics_df['recall'] = metrics_df.apply(lambda x: len(x['intrsctn_itm']) / len(x['item_id_idx']), axis=1)\n",
    "    metrics_df['precision'] = metrics_df.apply(lambda x: len(x['intrsctn_itm']) / K, axis=1)\n",
    "\n",
    "    return metrics_df['recall'].mean(), metrics_df['precision'].mean()"
   ],
   "metadata": {
    "id": "oHuXurG8mezC"
   },
   "execution_count": 106,
   "outputs": []
  },
  {
   "cell_type": "markdown",
   "source": [
    "## Train and evaluate models\n",
    "\n",
    "Lets test lightGCN metrics after training:"
   ],
   "metadata": {
    "id": "_qOC3fF9m6cH"
   }
  },
  {
   "cell_type": "code",
   "source": [
    "# Define the hyperparameters\n",
    "latent_dim = 64\n",
    "n_layers = 3\n",
    "\n",
    "EPOCHS = 40\n",
    "BATCH_SIZE = 1024\n",
    "DECAY = 0.0001\n",
    "LR = 0.005\n",
    "K = 20"
   ],
   "metadata": {
    "id": "MZtgfxxIm5nL"
   },
   "execution_count": 108,
   "outputs": []
  },
  {
   "cell_type": "code",
   "source": [
    "from tqdm import tqdm\n",
    "\n",
    "def train_and_eval(model, optimizer, train_df):\n",
    "    \"\"\"\n",
    "    Train and evaluate the recommendation model.\n",
    "\n",
    "    Args:\n",
    "    - model: Instance of the recommendation model.\n",
    "    - optimizer: PyTorch optimizer.\n",
    "    - train_df (pd.DataFrame): DataFrame containing training data.\n",
    "\n",
    "    Returns:\n",
    "    - Tuple of lists: Lists containing epoch-wise losses, BPR losses, regularization losses,\n",
    "      recall scores, and precision scores.\n",
    "    \"\"\"\n",
    "    loss_list_epoch = []\n",
    "    bpr_loss_list_epoch = []\n",
    "    reg_loss_list_epoch = []\n",
    "    recall_list = []\n",
    "    precision_list = []\n",
    "\n",
    "    for epoch in tqdm(range(EPOCHS)):\n",
    "        n_batch = int(len(train_df) / BATCH_SIZE)\n",
    "\n",
    "        final_loss_list = []\n",
    "        bpr_loss_list = []\n",
    "        reg_loss_list = []\n",
    "\n",
    "        model.train()\n",
    "        for batch_idx in range(n_batch):\n",
    "            optimizer.zero_grad()\n",
    "\n",
    "            users, pos_items, neg_items = data_loader(train_df, BATCH_SIZE, n_users, n_items)\n",
    "            users_emb, pos_emb, neg_emb, userEmb0, posEmb0, negEmb0 = model.encode_minibatch(users, pos_items, neg_items,\n",
    "                                                                                             train_edge_index)\n",
    "\n",
    "            bpr_loss, reg_loss = compute_bpr_loss(\n",
    "                users, users_emb, pos_emb, neg_emb, userEmb0, posEmb0, negEmb0\n",
    "            )\n",
    "            reg_loss = DECAY * reg_loss\n",
    "            final_loss = bpr_loss + reg_loss\n",
    "\n",
    "            final_loss.backward()\n",
    "            optimizer.step()\n",
    "\n",
    "            final_loss_list.append(final_loss.item())\n",
    "            bpr_loss_list.append(bpr_loss.item())\n",
    "            reg_loss_list.append(reg_loss.item())\n",
    "\n",
    "        model.eval()\n",
    "        with torch.no_grad():\n",
    "            _, out = model(train_edge_index)\n",
    "            final_user_Embed, final_item_Embed = torch.split(out, (n_users, n_items))\n",
    "            test_topK_recall, test_topK_precision = get_metrics(\n",
    "                final_user_Embed, final_item_Embed, n_users, n_items, train_df, test_df, K\n",
    "            )\n",
    "\n",
    "        loss_list_epoch.append(round(np.mean(final_loss_list), 4))\n",
    "        bpr_loss_list_epoch.append(round(np.mean(bpr_loss_list), 4))\n",
    "        reg_loss_list_epoch.append(round(np.mean(reg_loss_list), 4))\n",
    "        recall_list.append(round(test_topK_recall, 4))\n",
    "        precision_list.append(round(test_topK_precision, 4))\n",
    "\n",
    "    return (\n",
    "        loss_list_epoch,\n",
    "        bpr_loss_list_epoch,\n",
    "        reg_loss_list_epoch,\n",
    "        recall_list,\n",
    "        precision_list\n",
    "    )"
   ],
   "metadata": {
    "id": "B5HB_FX5pdgv"
   },
   "execution_count": 109,
   "outputs": []
  },
  {
   "cell_type": "markdown",
   "source": [
    "### Train and eval LightGCN"
   ],
   "metadata": {
    "id": "Z4xJSiBiznki"
   }
  },
  {
   "cell_type": "code",
   "source": [
    "from tqdm.notebook import tqdm\n",
    "\n",
    "# Instantiate the RecSysGNN model\n",
    "lightgcn = RecSysGNN(\n",
    "    latent_dim=latent_dim,\n",
    "    num_layers=n_layers,\n",
    "    num_users=n_users,\n",
    "    num_items=n_items,\n",
    ")\n",
    "lightgcn.to(device)\n",
    "\n",
    "# Define the optimizer\n",
    "optimizer = torch.optim.Adam(lightgcn.parameters(), lr=LR)"
   ],
   "metadata": {
    "id": "eKBv9eXongux"
   },
   "execution_count": 110,
   "outputs": []
  },
  {
   "cell_type": "code",
   "source": [
    "light_loss, light_bpr, light_reg, light_recall, light_precision = train_and_eval(lightgcn, optimizer, train_df)"
   ],
   "metadata": {
    "id": "iXfsuJlcy3FT"
   },
   "execution_count": 84,
   "outputs": [
    {
     "data": {
      "text/plain": "  0%|          | 0/40 [00:00<?, ?it/s]",
      "application/vnd.jupyter.widget-view+json": {
       "version_major": 2,
       "version_minor": 0,
       "model_id": "5c8d0f8cae734007b62c4eaeca971b4d"
      }
     },
     "metadata": {},
     "output_type": "display_data"
    }
   ]
  },
  {
   "cell_type": "code",
   "source": [
    "epoch_list = [(i+1) for i in range(EPOCHS)]"
   ],
   "metadata": {
    "id": "vCOJY4XST38b"
   },
   "execution_count": 58,
   "outputs": []
  },
  {
   "cell_type": "code",
   "source": [
    "import matplotlib.pyplot as plt\n",
    "\n",
    "# Plot training losses\n",
    "plt.plot(epoch_list, light_loss, label='Total Training Loss')\n",
    "plt.plot(epoch_list, light_bpr, label='BPR Training Loss')\n",
    "plt.plot(epoch_list, light_reg, label='Reg Training Loss')\n",
    "\n",
    "# Set plot labels and legend\n",
    "plt.xlabel('Epoch')\n",
    "plt.ylabel('Loss')\n",
    "plt.legend()\n",
    "\n",
    "# Show the plot\n",
    "plt.show()"
   ],
   "metadata": {
    "id": "Z5P2Zf6yT4Uu"
   },
   "execution_count": 111,
   "outputs": [
    {
     "data": {
      "text/plain": "<Figure size 640x480 with 1 Axes>",
      "image/png": "[encoded data removed]"
     },
     "metadata": {},
     "output_type": "display_data"
    }
   ]
  },
  {
   "cell_type": "code",
   "source": [
    "import matplotlib.pyplot as plt\n",
    "\n",
    "# Plot recall and precision\n",
    "plt.plot(epoch_list, light_recall, label='Recall')\n",
    "plt.plot(epoch_list, light_precision, label='Precision')\n",
    "\n",
    "# Set plot labels and legend\n",
    "plt.xlabel('Epoch')\n",
    "plt.ylabel('Metrics')\n",
    "plt.legend()\n",
    "\n",
    "# Show the plot\n",
    "plt.show()"
   ],
   "metadata": {
    "id": "I1Quk5mahJ1n"
   },
   "execution_count": 112,
   "outputs": [
    {
     "data": {
      "text/plain": "<Figure size 640x480 with 1 Axes>",
      "image/png": "[encoded data removed]"
     },
     "metadata": {},
     "output_type": "display_data"
    }
   ]
  },
  {
   "cell_type": "markdown",
   "source": [
    "### Model perfomance (Benchmark)"
   ],
   "metadata": {
    "id": "myUn4-Sr26KT"
   }
  },
  {
   "cell_type": "code",
   "metadata": {
    "id": "6MY7QibZ6NNJ"
   },
   "source": [
    "max(light_precision), max(light_recall)"
   ],
   "execution_count": 113,
   "outputs": [
    {
     "data": {
      "text/plain": "(0.286, 0.359)"
     },
     "execution_count": 113,
     "metadata": {},
     "output_type": "execute_result"
    }
   ]
  },
  {
   "cell_type": "markdown",
   "source": [
    "## Save the model:"
   ],
   "metadata": {
    "collapsed": false
   }
  },
  {
   "cell_type": "code",
   "execution_count": 114,
   "outputs": [],
   "source": [
    "torch.save(lightgcn, 'best_40e.pth')"
   ],
   "metadata": {
    "collapsed": false
   }
  },
  {
   "cell_type": "code",
   "execution_count": null,
   "outputs": [],
   "source": [],
   "metadata": {
    "collapsed": false
   }
  }
 ]
}
